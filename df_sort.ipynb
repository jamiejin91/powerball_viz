{
 "cells": [
  {
   "cell_type": "code",
   "execution_count": 1,
   "metadata": {
    "collapsed": true
   },
   "outputs": [],
   "source": [
    "#mLab login\n",
    "# from mLab import username, password\n",
    "\n",
    "#flask setup\n",
    "from flask import Flask, render_template, redirect, jsonify\n",
    "app = Flask(__name__)\n",
    "\n",
    "#Mongo DB connection with mLab\n",
    "from pymongo import MongoClient\n",
    "import pandas as pd\n",
    "\n",
    "client = MongoClient(\"mongodb://%s:%s@ds133816.mlab.com:33816/heroku_sdvkxt9m\" % (\"admin\", \"powerballdata\")) \n",
    "\n",
    "db = client.heroku_sdvkxt9m\n",
    "\n",
    "total_collection = db.total_collection"
   ]
  },
  {
   "cell_type": "code",
   "execution_count": 6,
   "metadata": {},
   "outputs": [
    {
     "data": {
      "text/html": [
       "<div>\n",
       "<style>\n",
       "    .dataframe thead tr:only-child th {\n",
       "        text-align: right;\n",
       "    }\n",
       "\n",
       "    .dataframe thead th {\n",
       "        text-align: left;\n",
       "    }\n",
       "\n",
       "    .dataframe tbody tr th {\n",
       "        vertical-align: top;\n",
       "    }\n",
       "</style>\n",
       "<table border=\"1\" class=\"dataframe\">\n",
       "  <thead>\n",
       "    <tr style=\"text-align: right;\">\n",
       "      <th></th>\n",
       "      <th>_id</th>\n",
       "      <th>norm_draw_sales</th>\n",
       "      <th>norm_pp_sales</th>\n",
       "      <th>sum_sales</th>\n",
       "    </tr>\n",
       "  </thead>\n",
       "  <tbody>\n",
       "    <tr>\n",
       "      <th>33</th>\n",
       "      <td>Rhode Island</td>\n",
       "      <td>21.666304</td>\n",
       "      <td>3.352835</td>\n",
       "      <td>25.019139</td>\n",
       "    </tr>\n",
       "    <tr>\n",
       "      <th>5</th>\n",
       "      <td>Dist. of Columbia</td>\n",
       "      <td>20.150416</td>\n",
       "      <td>2.978537</td>\n",
       "      <td>23.128953</td>\n",
       "    </tr>\n",
       "    <tr>\n",
       "      <th>4</th>\n",
       "      <td>Delaware</td>\n",
       "      <td>19.687230</td>\n",
       "      <td>2.237710</td>\n",
       "      <td>21.924941</td>\n",
       "    </tr>\n",
       "    <tr>\n",
       "      <th>23</th>\n",
       "      <td>New Hampshire</td>\n",
       "      <td>17.159611</td>\n",
       "      <td>1.889262</td>\n",
       "      <td>19.048873</td>\n",
       "    </tr>\n",
       "    <tr>\n",
       "      <th>14</th>\n",
       "      <td>Louisiana</td>\n",
       "      <td>15.874279</td>\n",
       "      <td>2.663233</td>\n",
       "      <td>18.537512</td>\n",
       "    </tr>\n",
       "  </tbody>\n",
       "</table>\n",
       "</div>"
      ],
      "text/plain": [
       "                  _id  norm_draw_sales  norm_pp_sales  sum_sales\n",
       "33       Rhode Island        21.666304       3.352835  25.019139\n",
       "5   Dist. of Columbia        20.150416       2.978537  23.128953\n",
       "4            Delaware        19.687230       2.237710  21.924941\n",
       "23      New Hampshire        17.159611       1.889262  19.048873\n",
       "14          Louisiana        15.874279       2.663233  18.537512"
      ]
     },
     "execution_count": 6,
     "metadata": {},
     "output_type": "execute_result"
    }
   ],
   "source": [
    "year = int('2010')\n",
    "pipe = [{'$match': {'year': year}},{'$group': {'_id': '$states', 'norm_draw_sales': {'$sum': '$norm_draw_sale_by_state'}, 'norm_pp_sales': {\"$sum\": '$norm_pp_sale_by_state'} }}, {'$sort': {'_id': 1}}]\n",
    "results = total_collection.aggregate(pipeline=pipe) \n",
    "\n",
    "df = pd.DataFrame(list(results))\n",
    "df.dropna(inplace = True)\n",
    "df['sum_sales']=df['norm_draw_sales']+df['norm_pp_sales']\n",
    "df.sort_values('sum_sales', ascending=False, inplace=True)\n",
    "df.head()\n",
    "    \n",
    "   \n",
    "    \n",
    "    #sales_dict = df.to_dict(orient = 'list')\n",
    "    \n",
    "    #return sales_dict\n",
    "\n"
   ]
  },
  {
   "cell_type": "code",
   "execution_count": null,
   "metadata": {
    "collapsed": true
   },
   "outputs": [],
   "source": []
  }
 ],
 "metadata": {
  "kernelspec": {
   "display_name": "Python [conda env:PythonData]",
   "language": "python",
   "name": "conda-env-PythonData-py"
  },
  "language_info": {
   "codemirror_mode": {
    "name": "ipython",
    "version": 3
   },
   "file_extension": ".py",
   "mimetype": "text/x-python",
   "name": "python",
   "nbconvert_exporter": "python",
   "pygments_lexer": "ipython3",
   "version": "3.6.1"
  }
 },
 "nbformat": 4,
 "nbformat_minor": 2
}
