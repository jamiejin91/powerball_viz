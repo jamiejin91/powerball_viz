{
 "cells": [
  {
   "cell_type": "code",
   "execution_count": 1,
   "metadata": {
    "collapsed": true
   },
   "outputs": [],
   "source": [
    "import pandas as pd"
   ]
  },
  {
   "cell_type": "code",
   "execution_count": 4,
   "metadata": {},
   "outputs": [],
   "source": [
    "df = pd.read_csv(\"../clean_csvs/clean_state_purchases_FINAL.csv\")"
   ]
  },
  {
   "cell_type": "code",
   "execution_count": 5,
   "metadata": {},
   "outputs": [
    {
     "data": {
      "text/html": [
       "<div>\n",
       "<style>\n",
       "    .dataframe thead tr:only-child th {\n",
       "        text-align: right;\n",
       "    }\n",
       "\n",
       "    .dataframe thead th {\n",
       "        text-align: left;\n",
       "    }\n",
       "\n",
       "    .dataframe tbody tr th {\n",
       "        vertical-align: top;\n",
       "    }\n",
       "</style>\n",
       "<table border=\"1\" class=\"dataframe\">\n",
       "  <thead>\n",
       "    <tr style=\"text-align: right;\">\n",
       "      <th></th>\n",
       "      <th>date</th>\n",
       "      <th>draw_sales</th>\n",
       "      <th>jackpot</th>\n",
       "      <th>pp_sales</th>\n",
       "      <th>state_abbr</th>\n",
       "      <th>state_draw_sales</th>\n",
       "      <th>state_pp_sales</th>\n",
       "      <th>date_format</th>\n",
       "      <th>ticket_sales</th>\n",
       "      <th>revenue</th>\n",
       "      <th>year</th>\n",
       "    </tr>\n",
       "  </thead>\n",
       "  <tbody>\n",
       "    <tr>\n",
       "      <th>0</th>\n",
       "      <td>12/02/17</td>\n",
       "      <td>33842134.0</td>\n",
       "      <td>177.0</td>\n",
       "      <td>3144938.0</td>\n",
       "      <td>AR</td>\n",
       "      <td>207040.0</td>\n",
       "      <td>50023.0</td>\n",
       "      <td>2017-12-02</td>\n",
       "      <td>103520.0</td>\n",
       "      <td>257063.0</td>\n",
       "      <td>2017</td>\n",
       "    </tr>\n",
       "    <tr>\n",
       "      <th>1</th>\n",
       "      <td>12/02/17</td>\n",
       "      <td>33842134.0</td>\n",
       "      <td>177.0</td>\n",
       "      <td>3144938.0</td>\n",
       "      <td>AZ</td>\n",
       "      <td>790702.0</td>\n",
       "      <td>59666.0</td>\n",
       "      <td>2017-12-02</td>\n",
       "      <td>395351.0</td>\n",
       "      <td>850368.0</td>\n",
       "      <td>2017</td>\n",
       "    </tr>\n",
       "    <tr>\n",
       "      <th>2</th>\n",
       "      <td>12/02/17</td>\n",
       "      <td>33842134.0</td>\n",
       "      <td>177.0</td>\n",
       "      <td>3144938.0</td>\n",
       "      <td>CA</td>\n",
       "      <td>3292686.0</td>\n",
       "      <td>0.0</td>\n",
       "      <td>2017-12-02</td>\n",
       "      <td>1646343.0</td>\n",
       "      <td>3292686.0</td>\n",
       "      <td>2017</td>\n",
       "    </tr>\n",
       "    <tr>\n",
       "      <th>3</th>\n",
       "      <td>12/02/17</td>\n",
       "      <td>33842134.0</td>\n",
       "      <td>177.0</td>\n",
       "      <td>3144938.0</td>\n",
       "      <td>CO</td>\n",
       "      <td>560076.0</td>\n",
       "      <td>126852.0</td>\n",
       "      <td>2017-12-02</td>\n",
       "      <td>280038.0</td>\n",
       "      <td>686928.0</td>\n",
       "      <td>2017</td>\n",
       "    </tr>\n",
       "    <tr>\n",
       "      <th>4</th>\n",
       "      <td>12/02/17</td>\n",
       "      <td>33842134.0</td>\n",
       "      <td>177.0</td>\n",
       "      <td>3144938.0</td>\n",
       "      <td>DC</td>\n",
       "      <td>80140.0</td>\n",
       "      <td>6985.0</td>\n",
       "      <td>2017-12-02</td>\n",
       "      <td>40070.0</td>\n",
       "      <td>87125.0</td>\n",
       "      <td>2017</td>\n",
       "    </tr>\n",
       "  </tbody>\n",
       "</table>\n",
       "</div>"
      ],
      "text/plain": [
       "       date  draw_sales  jackpot   pp_sales state_abbr  state_draw_sales  \\\n",
       "0  12/02/17  33842134.0    177.0  3144938.0         AR          207040.0   \n",
       "1  12/02/17  33842134.0    177.0  3144938.0         AZ          790702.0   \n",
       "2  12/02/17  33842134.0    177.0  3144938.0         CA         3292686.0   \n",
       "3  12/02/17  33842134.0    177.0  3144938.0         CO          560076.0   \n",
       "4  12/02/17  33842134.0    177.0  3144938.0         DC           80140.0   \n",
       "\n",
       "   state_pp_sales date_format  ticket_sales    revenue  year  \n",
       "0         50023.0  2017-12-02      103520.0   257063.0  2017  \n",
       "1         59666.0  2017-12-02      395351.0   850368.0  2017  \n",
       "2             0.0  2017-12-02     1646343.0  3292686.0  2017  \n",
       "3        126852.0  2017-12-02      280038.0   686928.0  2017  \n",
       "4          6985.0  2017-12-02       40070.0    87125.0  2017  "
      ]
     },
     "execution_count": 5,
     "metadata": {},
     "output_type": "execute_result"
    }
   ],
   "source": [
    "df.head()"
   ]
  },
  {
   "cell_type": "code",
   "execution_count": null,
   "metadata": {
    "collapsed": true
   },
   "outputs": [],
   "source": []
  }
 ],
 "metadata": {
  "kernelspec": {
   "display_name": "Python [conda env:PythonData]",
   "language": "python",
   "name": "conda-env-PythonData-py"
  },
  "language_info": {
   "codemirror_mode": {
    "name": "ipython",
    "version": 3
   },
   "file_extension": ".py",
   "mimetype": "text/x-python",
   "name": "python",
   "nbconvert_exporter": "python",
   "pygments_lexer": "ipython3",
   "version": "3.6.1"
  }
 },
 "nbformat": 4,
 "nbformat_minor": 2
}
