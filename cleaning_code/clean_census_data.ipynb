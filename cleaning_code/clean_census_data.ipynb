{
 "cells": [
  {
   "cell_type": "code",
   "execution_count": 1,
   "metadata": {
    "collapsed": true
   },
   "outputs": [],
   "source": [
    "import pandas as pd"
   ]
  },
  {
   "cell_type": "code",
   "execution_count": 3,
   "metadata": {},
   "outputs": [],
   "source": [
    "df = pd.read_csv('../census_data2011_2015.csv')"
   ]
  },
  {
   "cell_type": "code",
   "execution_count": 4,
   "metadata": {},
   "outputs": [
    {
     "data": {
      "text/html": [
       "<div>\n",
       "<style>\n",
       "    .dataframe thead tr:only-child th {\n",
       "        text-align: right;\n",
       "    }\n",
       "\n",
       "    .dataframe thead th {\n",
       "        text-align: left;\n",
       "    }\n",
       "\n",
       "    .dataframe tbody tr th {\n",
       "        vertical-align: top;\n",
       "    }\n",
       "</style>\n",
       "<table border=\"1\" class=\"dataframe\">\n",
       "  <thead>\n",
       "    <tr style=\"text-align: right;\">\n",
       "      <th></th>\n",
       "      <th>state</th>\n",
       "      <th>Population</th>\n",
       "      <th>Median Age</th>\n",
       "      <th>Household Income</th>\n",
       "      <th>Per Capita Income</th>\n",
       "      <th>Poverty Count</th>\n",
       "      <th>Poverty Rate</th>\n",
       "      <th>Unemployment Rate</th>\n",
       "      <th>year</th>\n",
       "    </tr>\n",
       "  </thead>\n",
       "  <tbody>\n",
       "    <tr>\n",
       "      <th>0</th>\n",
       "      <td>AL</td>\n",
       "      <td>4747424.0</td>\n",
       "      <td>37.7</td>\n",
       "      <td>42934.0</td>\n",
       "      <td>23483.0</td>\n",
       "      <td>813385.0</td>\n",
       "      <td>17.133186</td>\n",
       "      <td>4.540210</td>\n",
       "      <td>2011</td>\n",
       "    </tr>\n",
       "    <tr>\n",
       "      <th>1</th>\n",
       "      <td>AK</td>\n",
       "      <td>700703.0</td>\n",
       "      <td>33.8</td>\n",
       "      <td>69014.0</td>\n",
       "      <td>31944.0</td>\n",
       "      <td>65111.0</td>\n",
       "      <td>9.292239</td>\n",
       "      <td>4.414424</td>\n",
       "      <td>2011</td>\n",
       "    </tr>\n",
       "    <tr>\n",
       "      <th>2</th>\n",
       "      <td>AZ</td>\n",
       "      <td>6337373.0</td>\n",
       "      <td>35.7</td>\n",
       "      <td>50752.0</td>\n",
       "      <td>25784.0</td>\n",
       "      <td>1003575.0</td>\n",
       "      <td>15.835820</td>\n",
       "      <td>4.234610</td>\n",
       "      <td>2011</td>\n",
       "    </tr>\n",
       "    <tr>\n",
       "      <th>3</th>\n",
       "      <td>AR</td>\n",
       "      <td>2895928.0</td>\n",
       "      <td>37.3</td>\n",
       "      <td>40149.0</td>\n",
       "      <td>21833.0</td>\n",
       "      <td>516822.0</td>\n",
       "      <td>17.846507</td>\n",
       "      <td>3.940015</td>\n",
       "      <td>2011</td>\n",
       "    </tr>\n",
       "    <tr>\n",
       "      <th>4</th>\n",
       "      <td>CA</td>\n",
       "      <td>36969200.0</td>\n",
       "      <td>35.1</td>\n",
       "      <td>61632.0</td>\n",
       "      <td>29634.0</td>\n",
       "      <td>5211481.0</td>\n",
       "      <td>14.096818</td>\n",
       "      <td>5.055211</td>\n",
       "      <td>2011</td>\n",
       "    </tr>\n",
       "  </tbody>\n",
       "</table>\n",
       "</div>"
      ],
      "text/plain": [
       "  state  Population  Median Age  Household Income  Per Capita Income  \\\n",
       "0    AL   4747424.0        37.7           42934.0            23483.0   \n",
       "1    AK    700703.0        33.8           69014.0            31944.0   \n",
       "2    AZ   6337373.0        35.7           50752.0            25784.0   \n",
       "3    AR   2895928.0        37.3           40149.0            21833.0   \n",
       "4    CA  36969200.0        35.1           61632.0            29634.0   \n",
       "\n",
       "   Poverty Count  Poverty Rate  Unemployment Rate  year  \n",
       "0       813385.0     17.133186           4.540210  2011  \n",
       "1        65111.0      9.292239           4.414424  2011  \n",
       "2      1003575.0     15.835820           4.234610  2011  \n",
       "3       516822.0     17.846507           3.940015  2011  \n",
       "4      5211481.0     14.096818           5.055211  2011  "
      ]
     },
     "execution_count": 4,
     "metadata": {},
     "output_type": "execute_result"
    }
   ],
   "source": [
    "df.head()"
   ]
  },
  {
   "cell_type": "code",
   "execution_count": 5,
   "metadata": {},
   "outputs": [
    {
     "data": {
      "text/plain": [
       "260"
      ]
     },
     "execution_count": 5,
     "metadata": {},
     "output_type": "execute_result"
    }
   ],
   "source": [
    "len(df)"
   ]
  },
  {
   "cell_type": "code",
   "execution_count": 6,
   "metadata": {},
   "outputs": [
    {
     "data": {
      "text/html": [
       "<div>\n",
       "<style>\n",
       "    .dataframe thead tr:only-child th {\n",
       "        text-align: right;\n",
       "    }\n",
       "\n",
       "    .dataframe thead th {\n",
       "        text-align: left;\n",
       "    }\n",
       "\n",
       "    .dataframe tbody tr th {\n",
       "        vertical-align: top;\n",
       "    }\n",
       "</style>\n",
       "<table border=\"1\" class=\"dataframe\">\n",
       "  <thead>\n",
       "    <tr style=\"text-align: right;\">\n",
       "      <th></th>\n",
       "      <th>state</th>\n",
       "      <th>Population</th>\n",
       "      <th>Median Age</th>\n",
       "      <th>Household Income</th>\n",
       "      <th>Per Capita Income</th>\n",
       "      <th>Poverty Count</th>\n",
       "      <th>Poverty Rate</th>\n",
       "      <th>Unemployment Rate</th>\n",
       "      <th>year</th>\n",
       "    </tr>\n",
       "  </thead>\n",
       "  <tbody>\n",
       "  </tbody>\n",
       "</table>\n",
       "</div>"
      ],
      "text/plain": [
       "Empty DataFrame\n",
       "Columns: [state, Population, Median Age, Household Income, Per Capita Income, Poverty Count, Poverty Rate, Unemployment Rate, year]\n",
       "Index: []"
      ]
     },
     "execution_count": 6,
     "metadata": {},
     "output_type": "execute_result"
    }
   ],
   "source": [
    "df[df.isnull().any(axis = 1)]"
   ]
  },
  {
   "cell_type": "code",
   "execution_count": null,
   "metadata": {
    "collapsed": true
   },
   "outputs": [],
   "source": []
  }
 ],
 "metadata": {
  "kernelspec": {
   "display_name": "Python [conda env:PythonData]",
   "language": "python",
   "name": "conda-env-PythonData-py"
  },
  "language_info": {
   "codemirror_mode": {
    "name": "ipython",
    "version": 3
   },
   "file_extension": ".py",
   "mimetype": "text/x-python",
   "name": "python",
   "nbconvert_exporter": "python",
   "pygments_lexer": "ipython3",
   "version": "3.6.1"
  }
 },
 "nbformat": 4,
 "nbformat_minor": 2
}
