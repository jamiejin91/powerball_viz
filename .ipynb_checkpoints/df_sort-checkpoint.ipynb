{
 "cells": [
  {
   "cell_type": "code",
   "execution_count": null,
   "metadata": {
    "collapsed": true
   },
   "outputs": [],
   "source": [
    "#mLab login\n",
    "# from mLab import username, password\n",
    "\n",
    "#flask setup\n",
    "from flask import Flask, render_template, redirect, jsonify\n",
    "app = Flask(__name__)\n",
    "\n",
    "#Mongo DB connection with mLab\n",
    "from pymongo import MongoClient\n",
    "import pandas as pd\n",
    "\n",
    "client = MongoClient(\"mongodb://%s:%s@ds133816.mlab.com:33816/heroku_sdvkxt9m\" % (\"admin\", \"powerballdata\")) \n",
    "\n",
    "db = client.heroku_sdvkxt9m\n",
    "\n",
    "total_collection = db.total_collection"
   ]
  },
  {
   "cell_type": "code",
   "execution_count": null,
   "metadata": {
    "collapsed": true
   },
   "outputs": [],
   "source": [
    "year = int('2010')\n",
    "pipe = [{'$match': {'year': year}},{'$group': {'_id': '$states', 'norm_draw_sales': {'$sum': '$norm_draw_sale_by_state'}, 'norm_pp_sales': {\"$sum\": '$norm_pp_sale_by_state'} }}, {'$sort': {'_id': 1}}]\n",
    "results = total_collection.aggregate(pipeline=pipe) \n",
    "\n",
    "df = pd.DataFrame(list(results))\n",
    "df.dropna(inplace = True)\n",
    "df.head()\n",
    "    \n",
    "    #df.sort_values(,ascending=False)\n",
    "    \n",
    "    #sales_dict = df.to_dict(orient = 'list')\n",
    "    \n",
    "    #return sales_dict\n",
    "\n"
   ]
  }
 ],
 "metadata": {
  "kernelspec": {
   "display_name": "Python [conda env:PythonData]",
   "language": "python",
   "name": "conda-env-PythonData-py"
  },
  "language_info": {
   "codemirror_mode": {
    "name": "ipython",
    "version": 3
   },
   "file_extension": ".py",
   "mimetype": "text/x-python",
   "name": "python",
   "nbconvert_exporter": "python",
   "pygments_lexer": "ipython3",
   "version": "3.6.1"
  }
 },
 "nbformat": 4,
 "nbformat_minor": 2
}
